{
 "cells": [
  {
   "cell_type": "markdown",
   "metadata": {},
   "source": [
    "## Consultas para el desarrollo de la API\n",
    "\n",
    "En este notebook se crean las funciones para los endpoints que se consumirán en la API.\n",
    "\n",
    "Tenemos 5 funciones para las consultas:\n",
    "\n",
    "1) def **PlayTimeGenre**( genero : str )\n",
    "\n",
    "2) def **UserForGenre**( genero : str )\n",
    "\n",
    "3) def **UsersRecommend**( año : int )\n",
    "\n",
    "4) def **UsersWorstDeveloper**( año : int )\n",
    "\n",
    "5) def **sentiment_analysis**( empresa desarrolladora : str )"
   ]
  },
  {
   "cell_type": "code",
   "execution_count": 2,
   "metadata": {},
   "outputs": [],
   "source": [
    "import pandas as pd"
   ]
  },
  {
   "cell_type": "markdown",
   "metadata": {},
   "source": [
    "#### ENDPOINT 1"
   ]
  },
  {
   "cell_type": "markdown",
   "metadata": {},
   "source": [
    "def **PlayTimeGenre**( genero : str ): Debe devolver año con mas horas jugadas para dicho género.\n",
    "\n",
    "Ejemplo de retorno: {\"Año de lanzamiento con más horas jugadas para Género X\" : 2013}"
   ]
  },
  {
   "cell_type": "code",
   "execution_count": 27,
   "metadata": {},
   "outputs": [],
   "source": [
    "def PlayTimeGenre(genero: str):\n",
    "    df = pd.read_csv('PlayTimeGenre.csv')\n",
    "    \n",
    "    # Agrupa por género y encuentra el índice (idxmax()) correspondiente fila con el  valor máximo en la columna 'hours_game' para cada grupo\n",
    "    max_indices = df.groupby('genres')['Hours_played'].idxmax()\n",
    "\n",
    "    # Seleccionar las filas correspondientes a los índices encontrados\n",
    "    df_resultante = df.loc[max_indices]\n",
    "    # Encuentra el año con la mayor cantidad de horas jugadas para un género específico\n",
    "    year_max_Hours_played = df_resultante.loc[df_resultante['genres'] == genero, 'release_year'].iloc[0]\n",
    "    \n",
    "    # Construye el response_data\n",
    "    rpta1 = {\"Año de lanzamiento con más horas jugadas para Género '{}'\"\":\" \"{}\".format(genero, year_max_Hours_played)}\n",
    "\n",
    "    return rpta1"
   ]
  },
  {
   "cell_type": "code",
   "execution_count": 30,
   "metadata": {},
   "outputs": [
    {
     "data": {
      "text/plain": [
       "{\"Año de lanzamiento con más horas jugadas para Género 'Sports':2015\"}"
      ]
     },
     "execution_count": 30,
     "metadata": {},
     "output_type": "execute_result"
    }
   ],
   "source": [
    "PlayTimeGenre('Sports')"
   ]
  },
  {
   "cell_type": "markdown",
   "metadata": {},
   "source": [
    "#### ENDPOINT 2"
   ]
  },
  {
   "cell_type": "markdown",
   "metadata": {},
   "source": [
    "def **UserForGenre**( genero : str ): Debe devolver el usuario que acumula más horas jugadas para el género dado y una lista de la acumulación de horas jugadas por año.\n",
    "\n",
    "Ejemplo de retorno: {\"Usuario con más horas jugadas para Género X\" : us213ndjss09sdf, \"Horas jugadas\":[{Año: 2013, Horas: 203}, {Año: 2012, Horas: 100}, {Año: 2011, Horas: 23}]}"
   ]
  },
  {
   "cell_type": "code",
   "execution_count": 63,
   "metadata": {},
   "outputs": [],
   "source": [
    "def UserForGenre( genero:str ):\n",
    "    df2 = pd.read_csv('UserForGenre.csv',low_memory=False)\n",
    "\n",
    "    df2_genre = df2[df2['genres']==genero]\n",
    "    # Agrupar por 'genres', 'user_id' y 'release_year' y sumar 'Hours_played'\n",
    "    df3_genre = df2_genre.groupby(['genres', 'user_id'], as_index=False)['Hours_played'].sum()\n",
    "   \n",
    "    # Encuentra el índice del usuario con el máximo número de Hours_played\n",
    "    indice_max_hours = df3_genre['Hours_played'].idxmax()\n",
    "    # Obtiene el user_id con mayor 'Hours_played' para el genero indicado\n",
    "    user_id_max_hours = df3_genre.loc[indice_max_hours, 'user_id']\n",
    "\n",
    "    df2_genre = df2_genre[df2_genre['user_id']==user_id_max_hours]\n",
    "    # Filtra por 'user_id' igual al user_id con maximo numeor de horas jugadas y selecciona las columnas 'release_year' y 'Hours_played'\n",
    "    df2_genre1 = df2_genre[df2_genre['user_id']==user_id_max_hours][['release_year', 'Hours_played']]\n",
    "    \n",
    "    # Actualiza nombre de columnas\n",
    "    df2_genre1 = df2_genre1.rename(columns={'release_year': 'Año', 'Hours_played': 'Horas'})\n",
    "\n",
    "    # Listamos como diccionario las 'Hours_played' por año\n",
    "    dict_year_hours = df2_genre1.to_dict(orient='records') #  'records' significa que cada fila del DataFrame se convertirá en un diccionario\n",
    "\n",
    "    # Crea el diccionario de retorno\n",
    "    rpta2 = {\n",
    "        \"Usuario con más horas jugadas para Género {}\".format(genero): user_id_max_hours,\n",
    "        \"Horas jugadas\": dict_year_hours}\n",
    "\n",
    "    return rpta2\n",
    "    "
   ]
  },
  {
   "cell_type": "code",
   "execution_count": 65,
   "metadata": {},
   "outputs": [
    {
     "data": {
      "text/plain": [
       "{'Usuario con más horas jugadas para Género Action': 'Sp3ctre',\n",
       " 'Horas jugadas': [{'Año': 1995, 'Horas': 3.62},\n",
       "  {'Año': 1999, 'Horas': 0.73},\n",
       "  {'Año': 2000, 'Horas': 1177.4},\n",
       "  {'Año': 2001, 'Horas': 0.22},\n",
       "  {'Año': 2002, 'Horas': 3.97},\n",
       "  {'Año': 2003, 'Horas': 127.88},\n",
       "  {'Año': 2004, 'Horas': 2123.52},\n",
       "  {'Año': 2005, 'Horas': 355.65},\n",
       "  {'Año': 2006, 'Horas': 14.93},\n",
       "  {'Año': 2007, 'Horas': 1879.73},\n",
       "  {'Año': 2008, 'Horas': 3.73},\n",
       "  {'Año': 2009, 'Horas': 1805.43},\n",
       "  {'Año': 2010, 'Horas': 1301.38},\n",
       "  {'Año': 2011, 'Horas': 2581.6},\n",
       "  {'Año': 2012, 'Horas': 6304.94},\n",
       "  {'Año': 2013, 'Horas': 2007.68},\n",
       "  {'Año': 2014, 'Horas': 2178.18},\n",
       "  {'Año': 2015, 'Horas': 5208.52},\n",
       "  {'Año': 2016, 'Horas': 492.93},\n",
       "  {'Año': 2017, 'Horas': 722.12}]}"
      ]
     },
     "execution_count": 65,
     "metadata": {},
     "output_type": "execute_result"
    }
   ],
   "source": [
    "UserForGenre('Action')"
   ]
  },
  {
   "cell_type": "markdown",
   "metadata": {},
   "source": [
    "#### ENDPOINT 3"
   ]
  },
  {
   "cell_type": "markdown",
   "metadata": {},
   "source": [
    "def **UsersRecommend**( año : int ): Devuelve el top 3 de juegos MÁS recomendados por usuarios para el año dado. (reviews.recommend = True y comentarios positivos/neutrales)\n",
    "\n",
    "Ejemplo de retorno: [{\"Puesto 1\" : X}, {\"Puesto 2\" : Y},{\"Puesto 3\" : Z}]"
   ]
  },
  {
   "cell_type": "code",
   "execution_count": 129,
   "metadata": {},
   "outputs": [],
   "source": [
    "def UsersRecommend(anio: int):\n",
    "    df3 = pd.read_csv('UsersRecommend.csv')\n",
    "    \n",
    "    # Filtra por el año indicado\n",
    "    df3_year = df3[df3['year']==anio]\n",
    "    \n",
    "    # selecciona las tres filas con los valores mayores en la columna 'number_user_id_recom'\n",
    "    df3_year_top3 = df3_year.nlargest(3, 'number_user_id_recom')\n",
    "\n",
    "    # Armamos la estuctura de respuesta\n",
    "    rpta3 = [{\"Puesto 1\": df3_year_top3.iloc[0]['app_name']},{\"Puesto 2\": df3_year_top3.iloc[1]['app_name']},{\"Puesto 3\": df3_year_top3.iloc[2]['app_name']}]\n",
    "\n",
    "    return rpta3"
   ]
  },
  {
   "cell_type": "code",
   "execution_count": 130,
   "metadata": {},
   "outputs": [
    {
     "data": {
      "text/plain": [
       "[{'Puesto 1': 'Team Fortress 2'},\n",
       " {'Puesto 2': 'Counter-Strike: Global Offensive'},\n",
       " {'Puesto 3': \"Garry's Mod\"}]"
      ]
     },
     "execution_count": 130,
     "metadata": {},
     "output_type": "execute_result"
    }
   ],
   "source": [
    "UsersRecommend(2014)"
   ]
  },
  {
   "cell_type": "markdown",
   "metadata": {},
   "source": [
    "#### ENDPOINT 4"
   ]
  },
  {
   "cell_type": "markdown",
   "metadata": {},
   "source": [
    "def **UsersWorstDeveloper**( año : int ): Devuelve el top 3 de desarrolladoras con juegos MENOS recomendados por usuarios para el año dado. (reviews.recommend = False y comentarios negativos)\n",
    "\n",
    "Ejemplo de retorno: [{\"Puesto 1\" : X}, {\"Puesto 2\" : Y},{\"Puesto 3\" : Z}]"
   ]
  },
  {
   "cell_type": "code",
   "execution_count": 137,
   "metadata": {},
   "outputs": [],
   "source": [
    "def UsersWorstDeveloper( anio : int ):\n",
    "    df4 = pd.read_csv('UsersWorstDeveloper.csv')\n",
    "    \n",
    "    # Filtra por el año indicado\n",
    "    df4_year = df4[df4['year']==anio]\n",
    "    \n",
    "    # Ordena de forma ascendente según la columna 'number_user_id_recom' y developer\n",
    "    sorted_df = df4_year.sort_values(by=['number_user_id_norecom', 'developer'])\n",
    "    # Elimina duplicados de 'developer', manteniendo la primera ocurrencia, esto se hace para no repetir de desarrolladora\n",
    "    unique_developers = sorted_df.drop_duplicates(subset='developer', keep='first')\n",
    "    # selecciona las tres filas con los valores más bajos en la columna 'number_user_id_recom'\n",
    "    df4_year_top3_developers = unique_developers.head(3)\n",
    "\n",
    "    # Armamos la estuctura de respuesta\n",
    "    rpta4 = [{\"Puesto 1\": df4_year_top3_developers.iloc[0]['developer']},{\"Puesto 2\": df4_year_top3_developers.iloc[1]['developer']},{\"Puesto 3\": df4_year_top3_developers.iloc[2]['developer']}]\n",
    "\n",
    "    return rpta4 "
   ]
  },
  {
   "cell_type": "code",
   "execution_count": 141,
   "metadata": {},
   "outputs": [
    {
     "data": {
      "text/plain": [
       "[{'Puesto 1': 'Best Way'},\n",
       " {'Puesto 2': 'Hardsuit Labs'},\n",
       " {'Puesto 3': 'NeoCoreGames'}]"
      ]
     },
     "execution_count": 141,
     "metadata": {},
     "output_type": "execute_result"
    }
   ],
   "source": [
    "UsersWorstDeveloper(2012)"
   ]
  },
  {
   "cell_type": "markdown",
   "metadata": {},
   "source": [
    "#### ENDPOINT 5"
   ]
  },
  {
   "cell_type": "markdown",
   "metadata": {},
   "source": [
    "def **sentiment_analysis**( empresa desarrolladora : str ): Según la empresa desarrolladora, se devuelve un diccionario con el nombre de la desarrolladora como llave y una lista con la cantidad total de registros de reseñas de usuarios que se encuentren categorizados con un análisis de sentimiento como valor.\n",
    "\n",
    "Ejemplo de retorno: {'Valve' : [Negative = 182, Neutral = 120, Positive = 278]}"
   ]
  },
  {
   "cell_type": "code",
   "execution_count": 184,
   "metadata": {},
   "outputs": [],
   "source": [
    "def sentiment_analysis(empresa_desarrolladora: str):\n",
    "    df5 = pd.read_csv('sentiment_analysis.csv')\n",
    "    #Filtra por empresa desarrolladora\n",
    "    df_5_1 = df5[df5['developer']==empresa_desarrolladora]\n",
    "    # Guarda como diccionario la fila seleccionada\n",
    "    #rpta5= df_5_1.set_index('developer').to_dict(orient='index')\n",
    "    #Se da el formato para la respuesta\n",
    "    rpta5= {row['developer']: [f\"Negative = {row['Negative']}\", f\"Neutral = {row['Neutral']}\", f\"Positive = {row['Positive']}\"] for index, row in df_5_1.iterrows()}\n",
    "\n",
    "    return rpta5"
   ]
  },
  {
   "cell_type": "code",
   "execution_count": 181,
   "metadata": {},
   "outputs": [
    {
     "data": {
      "text/plain": [
       "{'Valve': ['Negative = 940', 'Neutral = 780', 'Positive = 4752']}"
      ]
     },
     "execution_count": 181,
     "metadata": {},
     "output_type": "execute_result"
    }
   ],
   "source": [
    "sentiment_analysis(\"Valve\")"
   ]
  },
  {
   "cell_type": "code",
   "execution_count": 183,
   "metadata": {},
   "outputs": [
    {
     "data": {
      "text/plain": [
       "{'Valve': {'Negative': 940, 'Neutral': 780, 'Positive': 4752}}"
      ]
     },
     "execution_count": 183,
     "metadata": {},
     "output_type": "execute_result"
    }
   ],
   "source": [
    "sentiment_analysis(\"Valve\")"
   ]
  }
 ],
 "metadata": {
  "kernelspec": {
   "display_name": "Python 3",
   "language": "python",
   "name": "python3"
  },
  "language_info": {
   "codemirror_mode": {
    "name": "ipython",
    "version": 3
   },
   "file_extension": ".py",
   "mimetype": "text/x-python",
   "name": "python",
   "nbconvert_exporter": "python",
   "pygments_lexer": "ipython3",
   "version": "3.12.1"
  }
 },
 "nbformat": 4,
 "nbformat_minor": 2
}
